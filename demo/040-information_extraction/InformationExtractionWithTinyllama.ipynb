{
 "cells": [
  {
   "cell_type": "markdown",
   "id": "0b3ee6c6-25b2-432e-8421-6141872e5c8a",
   "metadata": {},
   "source": [
    "# Information extraction with LLM\n",
    "\n",
    "In this demo, we ask LLM to summarize skills that are needed in job postings. Our dataset is [Linkedin Job Postings](https://www.kaggle.com/datasets/arshkon/linkedin-job-postings) and we take the posting descriptions as our data. Then we use [Ollama library](https://ollama.com/) for asking the skills needed in the jobs. \n",
    "\n",
    "## Installation of Ollama\n",
    "\n",
    "Ollama is an easy-to use tool for running LLM models. Install Ollama from [here](https://ollama.com/download). You should get a command line tool working after the installation. \n",
    "\n",
    "## Information about tinyllama\n",
    "\n",
    "Tinyllama is a project to train 1.1B LLama model where the normal Llama3 has parameter sizes 8B and 70B. Tinyllama is meant to be run in a normal computer. \n",
    "\n",
    "## 1. Example of a summary \n",
    "\n",
    "Let's use tinyllama and take an example of asking skills needed in a job description. Our example job description is following description of an Account Manager position. Let's ask tinyllama model through ollama to summarise skills needed in the job into 5 points. \n",
    "\n",
    "#### Example job description\n",
    "\n",
    "Company DescriptionShiftRx is an early-stage (seed) tech company based in Austin, TX. We are focused on solving the critical healthcare provider shortage by streamlining the sourcing, credentialing, scheduling, and payment process for temporary healthcare providers. Leveraging generative AI and large language models, we develop customized onboarding modules to seamlessly integrate providers into new clinical environments. Our mission is to transform healthcare staffing and enable providers to focus on delivering the best patient care.\n",
    "\n",
    "Role Description\n",
    "\n",
    "This is a full-time on-site role as an Account Manager / Go-To-Market (GTM) Specialist at ShiftRx. This is an opportunity to join as one of the first 10 hires and founding members of the team at an early-stage company building in the AI + healthcare space. You'll work on the enterprise sales pipeline, help drive growth, and prospect and close exciting key healthcare facility accounts. As a foundational member of the sales team, you will play a critical role in shaping the direction and success of ShiftRx. This position offers the unique opportunity to build sales strategies from the ground up, ensuring our service delivery is seamless, scalable, and effectively meets the needs of our clients. We are seeking a driven and dynamic Sales Account Manager to join our fast-paced, B2B2C startup. This is not your typical 9-5 role; it's an opportunity to dive into a rapidly growing company, based out of ATX.\n",
    "\n",
    "Key Responsibilities\n",
    "\n",
    "Identify and develop new business opportunities with healthcare facilities and hospitalsManage and grow relationships with existing clientsUnderstand and communicate the value proposition of AI and healthcare technology solutionsWork closely with the team to develop and execute sales strategiesProvide feedback and insights from clients to improve our products and servicesExcellent communication and interpersonal skillsAnalyze data and generate reports\n",
    "QualificationsProblem-solving and decision-making abilitiesStrong attention to detail and accuracyAbility to work in a fast-paced and high-pressure environmentStrong organizational and time management skillsMinimum of 2 years of sales experience, preferably in a fast-paced, startup environment.Experience in selling to healthcare facilities and hospitals is highly desirable.Proven track record of achieving sales targets + proficient in CRM software.Strong communication and negotiation skills.Ability to work independently and as part of a team.Early-stage (Seed, Series A, Series B) startup experience is requiredMust live in the Austin area or be willing to relocate \n",
    "Additional qualifications and skills that would be beneficial for the role include a background in healthcare tech, understanding of clinical workflows, and/ or experience with AI and language models.\n",
    "\n",
    "What We Offer\n",
    "\n",
    "A chance to be part of an early, scrappy team committed to transforming healthcare staffing.Significant growth opportunities and the ability to influence major company decisions.Competitive salary, equity options, and comprehensive health benefits.Ability to drive impact in healthcare to help solve the healthcare provider shortage.A unique opportunity to grow into a sales leadership role and help build the team.Unlimited variable compensation with attractive commissions.\n",
    "\n",
    "Why Join Us?\n",
    "\n",
    "At ShiftRx, you're not just taking a job; you're seizing an opportunity to be at the forefront of a rapidly evolving field. You'll be making real impacts, not only in our company but in the lives of healthcare providers and patients. If you're ready to make a difference and propel your career in an exciting direction, we want to hear from you."
   ]
  },
  {
   "cell_type": "markdown",
   "id": "651a1551-cc4e-4d6c-b7bf-94446aed5c2a",
   "metadata": {},
   "source": [
    "### Results of an example summarization\n",
    "\n",
    "We can see from the results, that the result is not formed in five points. Also, all things mentioned are not skills needed in the job. For example, in the result there are listed things that the company offers, such as attractive compensation. Also, the amount of skills listed is bigger than 5 in general. "
   ]
  },
  {
   "cell_type": "code",
   "execution_count": null,
   "id": "8adce464-a64a-4b57-8341-027869e17baf",
   "metadata": {},
   "outputs": [],
   "source": [
    "import ollama\n",
    "\n",
    "response = ollama.chat(\n",
    "    model=\"tinyllama\",\n",
    "    messages=[\n",
    "        {\n",
    "            \"role\": \"user\",\n",
    "            \"content\": \"Following text is a job summary. Tell me with five points, which skills are needed in the job. Summary: Company DescriptionShiftRx is an early-stage (seed) tech company based in Austin, TX. We are focused on solving the critical healthcare provider shortage by streamlining the sourcing, credentialing, scheduling, and payment process for temporary healthcare providers. Leveraging generative AI and large language models, we develop customized onboarding modules to seamlessly integrate providers into new clinical environments. Our mission is to transform healthcare staffing and enable providers to focus on delivering the best patient care. Role DescriptionThis is a full-time on-site role as an Account Manager / Go-To-Market (GTM) Specialist at ShiftRx. This is an opportunity to join as one of the first 10 hires and founding members of the team at an early-stage company building in the AI + healthcare space. You'll work on the enterprise sales pipeline, help drive growth, and prospect and close exciting key healthcare facility accounts. As a foundational member of the sales team, you will play a critical role in shaping the direction and success of ShiftRx. This position offers the unique opportunity to build sales strategies from the ground up, ensuring our service delivery is seamless, scalable, and effectively meets the needs of our clients. We are seeking a driven and dynamic Sales Account Manager to join our fast-paced, B2B2C startup. This is not your typical 9-5 role; it's an opportunity to dive into a rapidly growing company, based out of ATX. Key ResponsibilitiesIdentify and develop new business opportunities with healthcare facilities and hospitalsManage and grow relationships with existing clientsUnderstand and communicate the value proposition of AI and healthcare technology solutionsWork closely with the team to develop and execute sales strategiesProvide feedback and insights from clients to improve our products and servicesExcellent communication and interpersonal skillsAnalyze data and generate reports QualificationsProblem-solving and decision-making abilitiesStrong attention to detail and accuracyAbility to work in a fast-paced and high-pressure environmentStrong organizational and time management skillsMinimum of 2 years of sales experience, preferably in a fast-paced, startup environment.Experience in selling to healthcare facilities and hospitals is highly desirable.Proven track record of achieving sales targets + proficient in CRM software.Strong communication and negotiation skills.Ability to work independently and as part of a team.Early-stage (Seed, Series A, Series B) startup experience is requiredMust live in the Austin area or be willing to relocate Additional qualifications and skills that would be beneficial for the role include a background in healthcare tech, understanding of clinical workflows, and/ or experience with AI and language models. What We OfferA chance to be part of an early, scrappy team committed to transforming healthcare staffing.Significant growth opportunities and the ability to influence major company decisions.Competitive salary, equity options, and comprehensive health benefits.Ability to drive impact in healthcare to help solve the healthcare provider shortage.A unique opportunity to grow into a sales leadership role and help build the team.Unlimited variable compensation with attractive commissions. Why Join Us? At ShiftRx, you're not just taking a job; you're seizing an opportunity to be at the forefront of a rapidly evolving field. You'll be making real impacts, not only in our company but in the lives of healthcare providers and patients. If you're ready to make a difference and propel your career in an exciting direction, we want to hear from you.\",\n",
    "        },\n",
    "    ],\n",
    "    options={\"seed\": 42}\n",
    ")\n",
    "print(response[\"message\"][\"content\"])"
   ]
  },
  {
   "cell_type": "markdown",
   "id": "f32bb5ff-e8df-4d62-bda8-978fc9c0c892",
   "metadata": {},
   "source": [
    "## Skills for other postings \n",
    "\n",
    "Let's download a job postings file and start forming extractions for other job descriptions. \n",
    "\n",
    "### Task: Describe how good the skills extractions are and reflect why they might be how they are. "
   ]
  },
  {
   "cell_type": "code",
   "execution_count": 11,
   "id": "221b1165-0202-4cdf-87ec-dc558579f920",
   "metadata": {},
   "outputs": [],
   "source": [
    "import pandas as pd\n",
    "\n",
    "df = pd.read_csv(\"postings.csv\")"
   ]
  },
  {
   "cell_type": "code",
   "execution_count": null,
   "id": "c6553246-2ba3-4958-b779-903b0d956f12",
   "metadata": {},
   "outputs": [],
   "source": []
  }
 ],
 "metadata": {
  "kernelspec": {
   "display_name": "Python 3 (ipykernel)",
   "language": "python",
   "name": "python3"
  },
  "language_info": {
   "codemirror_mode": {
    "name": "ipython",
    "version": 3
   },
   "file_extension": ".py",
   "mimetype": "text/x-python",
   "name": "python",
   "nbconvert_exporter": "python",
   "pygments_lexer": "ipython3",
   "version": "3.9.6"
  }
 },
 "nbformat": 4,
 "nbformat_minor": 5
}
